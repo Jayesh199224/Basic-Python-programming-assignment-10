{
 "cells": [
  {
   "cell_type": "code",
   "execution_count": 2,
   "metadata": {},
   "outputs": [
    {
     "name": "stdout",
     "output_type": "stream",
     "text": [
      "Sum of elements in list is :  36\n"
     ]
    }
   ],
   "source": [
    "#1.Write a Python program to find sum of elements in list?\n",
    "l = [1,5,3,9,7,5,6]\n",
    "\n",
    "summ = sum(l)\n",
    "\n",
    "print('Sum of elements in list is : ',summ)"
   ]
  },
  {
   "cell_type": "code",
   "execution_count": 9,
   "metadata": {},
   "outputs": [
    {
     "name": "stdout",
     "output_type": "stream",
     "text": [
      "Multiplication of all the numbers in the list is :  28350\n"
     ]
    }
   ],
   "source": [
    "#2.Write a Python program to  Multiply all numbers in the list?\n",
    "import numpy as np\n",
    "\n",
    "l = [1,5,3,9,7,5,6]\n",
    "\n",
    "mull = np.prod(l)\n",
    "\n",
    "print('Multiplication of all the numbers in the list is : ', mull)"
   ]
  },
  {
   "cell_type": "code",
   "execution_count": 11,
   "metadata": {},
   "outputs": [
    {
     "name": "stdout",
     "output_type": "stream",
     "text": [
      "The smallest number in the given list is :  1\n"
     ]
    }
   ],
   "source": [
    "#3.Write a Python program to find smallest number in a list?\n",
    "l = [1,5,3,9,7,5,6]\n",
    "\n",
    "small = min(l)\n",
    "\n",
    "print('The smallest number in the given list is : ',small)"
   ]
  },
  {
   "cell_type": "code",
   "execution_count": 12,
   "metadata": {},
   "outputs": [
    {
     "name": "stdout",
     "output_type": "stream",
     "text": [
      "The largest number in the given list is :  9\n"
     ]
    }
   ],
   "source": [
    "#4.Write a Python program to find largest number in a list?\n",
    "l = [1,5,3,9,7,5,6]\n",
    "\n",
    "largest = max(l)\n",
    "\n",
    "print('The largest number in the given list is : ',largest)"
   ]
  },
  {
   "cell_type": "code",
   "execution_count": 15,
   "metadata": {},
   "outputs": [
    {
     "name": "stdout",
     "output_type": "stream",
     "text": [
      "The second largest number in the given list is :  7\n"
     ]
    }
   ],
   "source": [
    "#5.Write a Python program to find second largest number in a list?\n",
    "l = [1,5,3,9,7,5,6]\n",
    "\n",
    "l.sort()\n",
    "\n",
    "print('The second largest number in the given list is : ', l[-2])"
   ]
  },
  {
   "cell_type": "code",
   "execution_count": 17,
   "metadata": {},
   "outputs": [
    {
     "name": "stdout",
     "output_type": "stream",
     "text": [
      "The N largest elements from a list are :  [6, 7, 9]\n"
     ]
    }
   ],
   "source": [
    "#6.Write a Python program to find N largest elements from a list?\n",
    "l = [1,5,3,9,7,5,6]\n",
    "\n",
    "n = 3\n",
    "\n",
    "l.sort()\n",
    "\n",
    "print('The N largest elements from a list are : ',l[-n:])"
   ]
  },
  {
   "cell_type": "code",
   "execution_count": 26,
   "metadata": {},
   "outputs": [
    {
     "name": "stdout",
     "output_type": "stream",
     "text": [
      "The even number in the list is :  2\n",
      "The even number in the list is :  6\n",
      "The even number in the list is :  8\n"
     ]
    }
   ],
   "source": [
    "#7.Write a Python program to print even numbers in a list?\n",
    "l = [1,5,3,2,9,7,5,6,8]\n",
    "\n",
    "for i in l:\n",
    "    if i % 2 == 0:\n",
    "        print('The even number in the list is : ',i)\n",
    "\n"
   ]
  },
  {
   "cell_type": "code",
   "execution_count": 25,
   "metadata": {},
   "outputs": [
    {
     "name": "stdout",
     "output_type": "stream",
     "text": [
      "The odd number in the list is :  1\n",
      "The odd number in the list is :  5\n",
      "The odd number in the list is :  3\n",
      "The odd number in the list is :  9\n",
      "The odd number in the list is :  7\n",
      "The odd number in the list is :  5\n"
     ]
    }
   ],
   "source": [
    "#8.Write a Python program to print odd numbers in a List?\n",
    "l = [1,5,3,2,9,7,5,6,8]\n",
    "\n",
    "for i in l:\n",
    "    if i % 2 != 0:\n",
    "        print('The odd number in the list is : ',i)"
   ]
  },
  {
   "cell_type": "code",
   "execution_count": 28,
   "metadata": {},
   "outputs": [
    {
     "name": "stdout",
     "output_type": "stream",
     "text": [
      "the original list before removal of empty list  [1, 5, 3, 2, [], 9, 7, 5, [], 6, 8, []]\n",
      "list after removal of empty list is :  [1, 5, 3, 2, 9, 7, 5, 6, 8]\n"
     ]
    }
   ],
   "source": [
    "#9.Write a Python program to Remove empty List from List?\n",
    "l = [1,5,3,2,[],9,7,5,[],6,8,[]]\n",
    "\n",
    "print('the original list before removal of empty list ',(str(l)))\n",
    "\n",
    "rem = list(filter(None,l))\n",
    "\n",
    "print('list after removal of empty list is : ', rem)\n"
   ]
  },
  {
   "cell_type": "code",
   "execution_count": 37,
   "metadata": {},
   "outputs": [
    {
     "name": "stdout",
     "output_type": "stream",
     "text": [
      "[1, 5, 3, 2, 9, 7, 5, 6, 8]\n"
     ]
    }
   ],
   "source": [
    "#10.Write a Python program to Cloning or Copying a list?\n",
    "l = [1,5,3,2,9,7,5,6,8]\n",
    "\n",
    "a = l.copy()\n",
    "\n",
    "print(a)"
   ]
  },
  {
   "cell_type": "code",
   "execution_count": 46,
   "metadata": {},
   "outputs": [
    {
     "name": "stdout",
     "output_type": "stream",
     "text": [
      "number of occurences of element 5 is 2 times in the list.\n"
     ]
    }
   ],
   "source": [
    "#11.Write a Python program to Count occurrences of an element in a list?\n",
    "l = [1,5,3,2,9,7,5,6,8]\n",
    "\n",
    "a = l.count(5)\n",
    "print('number of occurences of element 5 is' ,a,'times in the list.')"
   ]
  },
  {
   "cell_type": "code",
   "execution_count": null,
   "metadata": {},
   "outputs": [],
   "source": []
  }
 ],
 "metadata": {
  "kernelspec": {
   "display_name": "Python 3",
   "language": "python",
   "name": "python3"
  },
  "language_info": {
   "codemirror_mode": {
    "name": "ipython",
    "version": 3
   },
   "file_extension": ".py",
   "mimetype": "text/x-python",
   "name": "python",
   "nbconvert_exporter": "python",
   "pygments_lexer": "ipython3",
   "version": "3.8.5"
  }
 },
 "nbformat": 4,
 "nbformat_minor": 4
}
